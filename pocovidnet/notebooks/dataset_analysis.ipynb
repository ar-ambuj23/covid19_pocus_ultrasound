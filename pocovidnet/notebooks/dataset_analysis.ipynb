{
 "cells": [
  {
   "cell_type": "code",
   "execution_count": null,
   "metadata": {},
   "outputs": [],
   "source": [
    "import numpy as np\n",
    "import pandas as pd\n",
    "import seaborn as sns\n",
    "import matplotlib.pyplot as plt"
   ]
  },
  {
   "cell_type": "code",
   "execution_count": null,
   "metadata": {},
   "outputs": [],
   "source": [
    "data = pd.read_csv(\"../../data/dataset_metadata.csv\")"
   ]
  },
  {
   "cell_type": "code",
   "execution_count": null,
   "metadata": {},
   "outputs": [],
   "source": [
    "data.columns"
   ]
  },
  {
   "cell_type": "code",
   "execution_count": null,
   "metadata": {
    "scrolled": true
   },
   "outputs": [],
   "source": [
    "# effusion, consolidated, blines, alines, irregular = [], [], [], []\n",
    "found_pattern = np.array([\"(sub)pleural effusion\", \"consolidation\", \"B-line(s)\", \"A-lines\", \"irregular pleural line\", \"air bronchogram\", \"normal\"])\n",
    "pathologies = np.zeros((len(data), 7))\n",
    "pat_dict = [[\"effusion\"], [\"consol\"], [\"b line\", \"b-line\", \"b - line\"], [\"a line\", \"a-line\", \"a - line\"], \n",
    "            [\"pleural irregular\", \"irregular pleural\", \"pleural thickening\"], [\"bronchogram\"],\n",
    "            [\"normal\", \"healthy\"]]\n",
    "\n",
    "for i, row in data.iterrows():\n",
    "    if \"artifacts\" in row[\"Current location\"] or \"uncertain\" in row[\"Current location\"]:\n",
    "        print(\"ueberspringe\", row[\"Filename\"])\n",
    "        continue\n",
    "    all_comments = (str(row['Comments first medical doctor (MD1)']) + \" \" +  str(row['MD2'])).lower()\n",
    "    # Effusion?\n",
    "    for pat_ind in range(7):\n",
    "        for pat in pat_dict[pat_ind]:\n",
    "            if (not \"no \"+pat in all_comments) and (not \"not \"+ pat in all_comments) and pat in all_comments:\n",
    "                pathologies[i,pat_ind] = 1\n",
    "    # print(str(row['Comments first medical doctor (MD1)'])+ \" \" + str(row['MD2']))\n",
    "    one_pathologies = np.where(pathologies[i]>0)[0]\n",
    "    print(found_pattern[one_pathologies])\n",
    "    # print()\n",
    "    if (row[\"Filename\"]).lower()[:3]==\"reg\" and (\"effusion\" in all_comments or \"consol\" in all_comments or \"pleural irregular\" in all_comments):\n",
    "        print(row[\"Filename\"].lower())\n",
    "    "
   ]
  },
  {
   "cell_type": "code",
   "execution_count": null,
   "metadata": {},
   "outputs": [],
   "source": [
    "mddf = pd.DataFrame(pathologies.astype(int), columns = found_pattern)"
   ]
  },
  {
   "cell_type": "code",
   "execution_count": null,
   "metadata": {},
   "outputs": [],
   "source": [
    "mddf.to_csv(\"../../data/pathologies.csv\")"
   ]
  },
  {
   "cell_type": "code",
   "execution_count": null,
   "metadata": {},
   "outputs": [],
   "source": [
    "def filter_fn(fn):\n",
    "    if fn.lower() in [\"reg\", \"cov\", \"pne\", \"vir\"]:\n",
    "        return fn.lower()\n",
    "    else:\n",
    "        print(fn)\n",
    "        return \"reg\" # all wrong ones are reg write now\n",
    "label = [filter_fn(fn[:3]) for fn in data[\"Filename\"].values] #  if fn[:3] in [\"Reg\", \"reg\", \"Cov\", \"cov\", \"pne\", \"Pne\"]]"
   ]
  },
  {
   "cell_type": "code",
   "execution_count": null,
   "metadata": {},
   "outputs": [],
   "source": [
    "mddf[\"label\"] = label"
   ]
  },
  {
   "cell_type": "code",
   "execution_count": null,
   "metadata": {},
   "outputs": [],
   "source": [
    "overview = mddf.groupby(\"label\").aggregate(\"mean\")"
   ]
  },
  {
   "cell_type": "code",
   "execution_count": null,
   "metadata": {},
   "outputs": [],
   "source": [
    "overview.index[1]"
   ]
  },
  {
   "cell_type": "markdown",
   "metadata": {
    "scrolled": false
   },
   "source": [
    "## Main plot"
   ]
  },
  {
   "cell_type": "code",
   "execution_count": null,
   "metadata": {},
   "outputs": [],
   "source": [
    "  # the label locations\n",
    "width = 0.7  # the width of the bars\n",
    "num = len(found_pattern)\n",
    "x = np.arange(4)\n",
    "\n",
    "fig, ax = plt.subplots(figsize=(15,8))\n",
    "\n",
    "rects = list()\n",
    "for i in range(num):\n",
    "    rect = ax.bar(x - width/2 + (i+1)*width/num, overview[found_pattern[i]].values, width/num, label=found_pattern[i])\n",
    "    rects.append(rect)\n",
    "# rects2 = ax.bar(x + width/4, women_means, width, label='Women')\n",
    "\n",
    "# Add some text for labels, title and custom x-axis tick labels, etc.\n",
    "ax.set_ylabel('Percent of pathology occurence (MD comments)', fontsize=20)\n",
    "ax.set_xticks(x)\n",
    "ax.set_xticklabels([\"Covid-19\", \"Bacterial pneumonia\", \"Healthy\", \"Viral pneumonia\"], fontsize=20)\n",
    "ax.legend(fontsize=20, loc=\"upper center\", ncol=4)\n",
    "ax.set_ylim(0,0.65)\n",
    "\n",
    "\n",
    "fig.tight_layout()\n",
    "plt.savefig(\"../../data/pathologies.pdf\")\n",
    "plt.show()"
   ]
  },
  {
   "cell_type": "markdown",
   "metadata": {},
   "source": [
    "### Plot the other way round"
   ]
  },
  {
   "cell_type": "code",
   "execution_count": null,
   "metadata": {},
   "outputs": [],
   "source": [
    "x = np.arange(len(overview.columns))  # the label locations\n",
    "width = 0.35  # the width of the bars\n",
    "\n",
    "fig, ax = plt.subplots(figsize=(10,8))\n",
    "\n",
    "rects = list()\n",
    "for i in range(4):\n",
    "    rect = ax.bar(x - width/2 + i*width/4, overview.iloc[i].values, width/4, label=overview.index[i])\n",
    "    rects.append(rect)\n",
    "# rects2 = ax.bar(x + width/4, women_means, width, label='Women')\n",
    "\n",
    "# Add some text for labels, title and custom x-axis tick labels, etc.\n",
    "ax.set_ylabel('Occurences in comments of medical experts', fontsize=20)\n",
    "ax.set_xticks(x)\n",
    "ax.set_xticklabels(found_pattern, fontsize=20)\n",
    "ax.legend(fontsize=20)\n",
    "ax.set_ylim(0,0.8)\n",
    "\n",
    "fig.tight_layout()\n",
    "\n",
    "plt.show()"
   ]
  },
  {
   "cell_type": "markdown",
   "metadata": {},
   "source": [
    "## Further analysis"
   ]
  },
  {
   "cell_type": "code",
   "execution_count": null,
   "metadata": {},
   "outputs": [],
   "source": [
    "data.columns"
   ]
  },
  {
   "cell_type": "code",
   "execution_count": null,
   "metadata": {},
   "outputs": [],
   "source": [
    "data_vids = data[data[\"Type\"]==\"video\"]\n",
    "print(\"Average number of frames and std\")\n",
    "np.nanmean(data_vids[\"Length (frames)\"]), np.nanstd(data_vids[\"Length (frames)\"])"
   ]
  },
  {
   "cell_type": "code",
   "execution_count": null,
   "metadata": {},
   "outputs": [],
   "source": [
    "notnan_ages = data[~np.isnan(data[\"Age\"])]\n",
    "sns.distplot(notnan_ages[\"Age\"])\n",
    "plt.xlabel(\"Patient age\", fontsize=15)"
   ]
  },
  {
   "cell_type": "code",
   "execution_count": null,
   "metadata": {},
   "outputs": [],
   "source": []
  }
 ],
 "metadata": {
  "kernelspec": {
   "display_name": "Python 3",
   "language": "python",
   "name": "python3"
  },
  "language_info": {
   "codemirror_mode": {
    "name": "ipython",
    "version": 3
   },
   "file_extension": ".py",
   "mimetype": "text/x-python",
   "name": "python",
   "nbconvert_exporter": "python",
   "pygments_lexer": "ipython3",
   "version": "3.6.10"
  }
 },
 "nbformat": 4,
 "nbformat_minor": 4
}
